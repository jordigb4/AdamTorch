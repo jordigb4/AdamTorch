{
 "cells": [
  {
   "metadata": {},
   "cell_type": "markdown",
   "source": "## Imports",
   "id": "e2885b4120c45652"
  },
  {
   "cell_type": "code",
   "id": "initial_id",
   "metadata": {
    "collapsed": true,
    "ExecuteTime": {
     "end_time": "2024-07-26T11:24:59.763152Z",
     "start_time": "2024-07-26T11:24:57.743543Z"
    }
   },
   "source": [
    "import torch_ADAM\n",
    "from pytorch_functions import *\n",
    "from torch_ADAM import *"
   ],
   "outputs": [],
   "execution_count": 1
  },
  {
   "metadata": {
    "ExecuteTime": {
     "end_time": "2024-07-26T10:59:31.142383Z",
     "start_time": "2024-07-26T10:59:29.957905Z"
    }
   },
   "cell_type": "code",
   "source": [
    "import torch\n",
    "from torch import nn \n",
    "from torch.utils.data import DataLoader\n",
    "from torchvision import datasets\n",
    "from torchvision.transforms import ToTensor"
   ],
   "id": "9f6c58a57b4e5f0",
   "outputs": [],
   "execution_count": 2
  },
  {
   "metadata": {},
   "cell_type": "markdown",
   "source": "## Define model and data",
   "id": "20bc8d6f48dad3bd"
  },
  {
   "metadata": {
    "ExecuteTime": {
     "end_time": "2024-07-26T10:59:31.154461Z",
     "start_time": "2024-07-26T10:59:31.142383Z"
    }
   },
   "cell_type": "code",
   "source": [
    "class NeuralNetwork(nn.Module):\n",
    "    def __init__(self):\n",
    "        super().__init__()\n",
    "        self.flatten = nn.Flatten()\n",
    "        self.linear_relu_stack = nn.Sequential(\n",
    "            nn.Linear(28*28, 512),\n",
    "            nn.ReLU(),\n",
    "            nn.Linear(512, 512),\n",
    "            nn.ReLU(),\n",
    "            nn.Linear(512, 10),\n",
    "        )\n",
    "\n",
    "    def forward(self, x):\n",
    "        x = self.flatten(x)\n",
    "        logits = self.linear_relu_stack(x)\n",
    "        return logits\n",
    "\n",
    "model = NeuralNetwork()"
   ],
   "id": "681903aa1ee8b490",
   "outputs": [],
   "execution_count": 3
  },
  {
   "metadata": {
    "ExecuteTime": {
     "end_time": "2024-07-26T10:59:31.200541Z",
     "start_time": "2024-07-26T10:59:31.154461Z"
    }
   },
   "cell_type": "code",
   "source": [
    "training_data = datasets.FashionMNIST(\n",
    "    root=\"data\",\n",
    "    train=True,\n",
    "    download=True,\n",
    "    transform=ToTensor()\n",
    ")\n",
    "\n",
    "test_data = datasets.FashionMNIST(\n",
    "    root=\"data\",\n",
    "    train=False,\n",
    "    download=True,\n",
    "    transform=ToTensor()\n",
    ")\n",
    "\n",
    "train_dataloader = DataLoader(training_data, batch_size=64)\n",
    "test_dataloader = DataLoader(test_data, batch_size=64)"
   ],
   "id": "28c07b96e1e43e15",
   "outputs": [],
   "execution_count": 4
  },
  {
   "metadata": {
    "ExecuteTime": {
     "end_time": "2024-07-26T10:59:31.206631Z",
     "start_time": "2024-07-26T10:59:31.202547Z"
    }
   },
   "cell_type": "code",
   "source": [
    "learning_rate = 1e-3\n",
    "batch_size = 64\n",
    "epochs = 5"
   ],
   "id": "55492a6c1aba1df6",
   "outputs": [],
   "execution_count": 5
  },
  {
   "metadata": {},
   "cell_type": "markdown",
   "source": "## Optimization loop\n",
   "id": "4a29755417477ed2"
  },
  {
   "metadata": {
    "ExecuteTime": {
     "end_time": "2024-07-26T11:00:57.514335Z",
     "start_time": "2024-07-26T10:59:31.208699Z"
    }
   },
   "cell_type": "code",
   "source": [
    "loss_fn = nn.CrossEntropyLoss()\n",
    "optimizer = torch_ADAM.Adam(model.parameters(),lr=learning_rate)\n",
    "\n",
    "for t in range(epochs):\n",
    "    print(f\"Epoch {t+1}\\n-------------------------------\")\n",
    "    train_loop(train_dataloader, model, loss_fn, optimizer,batch_size)\n",
    "    test_loop(test_dataloader, model, loss_fn)\n",
    "print(\"Done!\")"
   ],
   "id": "ae2395d8daa93f67",
   "outputs": [
    {
     "name": "stdout",
     "output_type": "stream",
     "text": [
      "Epoch 1\n",
      "-------------------------------\n",
      "loss: 2.308251  [   64/60000]\n",
      "loss: 0.569041  [ 6464/60000]\n",
      "loss: 0.410568  [12864/60000]\n",
      "loss: 0.517829  [19264/60000]\n",
      "loss: 0.460657  [25664/60000]\n",
      "loss: 0.447281  [32064/60000]\n",
      "loss: 0.373377  [38464/60000]\n",
      "loss: 0.501665  [44864/60000]\n",
      "loss: 0.451480  [51264/60000]\n",
      "loss: 0.493570  [57664/60000]\n",
      "Test Error: \n",
      " Accuracy: 85.5%, Avg loss: 0.411013 \n",
      "\n",
      "Epoch 2\n",
      "-------------------------------\n",
      "loss: 0.255247  [   64/60000]\n",
      "loss: 0.360954  [ 6464/60000]\n",
      "loss: 0.303766  [12864/60000]\n",
      "loss: 0.400537  [19264/60000]\n",
      "loss: 0.409865  [25664/60000]\n",
      "loss: 0.367764  [32064/60000]\n",
      "loss: 0.301944  [38464/60000]\n",
      "loss: 0.473609  [44864/60000]\n",
      "loss: 0.395376  [51264/60000]\n",
      "loss: 0.412071  [57664/60000]\n",
      "Test Error: \n",
      " Accuracy: 85.0%, Avg loss: 0.405865 \n",
      "\n",
      "Epoch 3\n",
      "-------------------------------\n",
      "loss: 0.234449  [   64/60000]\n",
      "loss: 0.346938  [ 6464/60000]\n",
      "loss: 0.250882  [12864/60000]\n",
      "loss: 0.364747  [19264/60000]\n",
      "loss: 0.366191  [25664/60000]\n",
      "loss: 0.325490  [32064/60000]\n",
      "loss: 0.264511  [38464/60000]\n",
      "loss: 0.426943  [44864/60000]\n",
      "loss: 0.329847  [51264/60000]\n",
      "loss: 0.395553  [57664/60000]\n",
      "Test Error: \n",
      " Accuracy: 85.6%, Avg loss: 0.395384 \n",
      "\n",
      "Epoch 4\n",
      "-------------------------------\n",
      "loss: 0.230510  [   64/60000]\n",
      "loss: 0.284813  [ 6464/60000]\n",
      "loss: 0.238891  [12864/60000]\n",
      "loss: 0.306610  [19264/60000]\n",
      "loss: 0.381069  [25664/60000]\n",
      "loss: 0.313219  [32064/60000]\n",
      "loss: 0.257596  [38464/60000]\n",
      "loss: 0.372731  [44864/60000]\n",
      "loss: 0.276957  [51264/60000]\n",
      "loss: 0.343754  [57664/60000]\n",
      "Test Error: \n",
      " Accuracy: 86.2%, Avg loss: 0.372431 \n",
      "\n",
      "Epoch 5\n",
      "-------------------------------\n",
      "loss: 0.233598  [   64/60000]\n",
      "loss: 0.265520  [ 6464/60000]\n",
      "loss: 0.216588  [12864/60000]\n",
      "loss: 0.262164  [19264/60000]\n",
      "loss: 0.364697  [25664/60000]\n",
      "loss: 0.271901  [32064/60000]\n",
      "loss: 0.237161  [38464/60000]\n",
      "loss: 0.344479  [44864/60000]\n",
      "loss: 0.277207  [51264/60000]\n",
      "loss: 0.313628  [57664/60000]\n",
      "Test Error: \n",
      " Accuracy: 87.0%, Avg loss: 0.360839 \n",
      "\n",
      "Done!\n"
     ]
    }
   ],
   "execution_count": 6
  }
 ],
 "metadata": {
  "kernelspec": {
   "display_name": "Python 3",
   "language": "python",
   "name": "python3"
  },
  "language_info": {
   "codemirror_mode": {
    "name": "ipython",
    "version": 2
   },
   "file_extension": ".py",
   "mimetype": "text/x-python",
   "name": "python",
   "nbconvert_exporter": "python",
   "pygments_lexer": "ipython2",
   "version": "2.7.6"
  }
 },
 "nbformat": 4,
 "nbformat_minor": 5
}
